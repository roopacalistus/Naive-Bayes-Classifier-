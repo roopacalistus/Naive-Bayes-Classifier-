{
 "cells": [
  {
   "cell_type": "markdown",
   "id": "4d8748fd",
   "metadata": {},
   "source": [
    "# Naive Bayes Classifier"
   ]
  },
  {
   "cell_type": "markdown",
   "id": "ccf66411",
   "metadata": {},
   "source": [
    "A simple Naive Bayes Classifier created to predict the chances of playing tennis based on the weather and temperature conditions."
   ]
  },
  {
   "cell_type": "markdown",
   "id": "1dbf2638",
   "metadata": {},
   "source": [
    "#### Defining Dataset \n",
    "\n",
    "##### Assigning Features and label variables"
   ]
  },
  {
   "cell_type": "code",
   "execution_count": 6,
   "id": "cca1d64f",
   "metadata": {},
   "outputs": [],
   "source": [
    "\n",
    "weather=['Sunny','Sunny','Overcast','Rainy','Rainy','Rainy','Overcast','Sunny','Sunny',\n",
    "         'Rainy','Sunny','Overcast','Overcast','Rainy']\n",
    "temp=['Hot','Hot','Hot','Mild','Cool','Cool','Cool','Mild','Cool','Mild','Mild',\n",
    "      'Mild','Hot','Mild']\n",
    "play=['No','No','Yes','Yes','Yes','No','Yes','No','Yes','Yes','Yes','Yes','Yes','No']"
   ]
  },
  {
   "cell_type": "markdown",
   "id": "38e5dc52",
   "metadata": {},
   "source": [
    "#### Importing the libraries"
   ]
  },
  {
   "cell_type": "code",
   "execution_count": 7,
   "id": "488794c8",
   "metadata": {},
   "outputs": [],
   "source": [
    "from sklearn import preprocessing\n",
    "from sklearn.naive_bayes import GaussianNB"
   ]
  },
  {
   "cell_type": "markdown",
   "id": "64e63e7d",
   "metadata": {},
   "source": [
    "#### Converting String labels into numbers"
   ]
  },
  {
   "cell_type": "code",
   "execution_count": 9,
   "id": "ddf6e8d7",
   "metadata": {},
   "outputs": [],
   "source": [
    "#Creating LabelEncoder\n",
    "le=preprocessing.LabelEncoder()"
   ]
  },
  {
   "cell_type": "code",
   "execution_count": 10,
   "id": "156ed940",
   "metadata": {},
   "outputs": [
    {
     "name": "stdout",
     "output_type": "stream",
     "text": [
      "Weather:   [2 2 0 1 1 1 0 2 2 1 2 0 0 1]\n"
     ]
    }
   ],
   "source": [
    "weather_encoded=le.fit_transform(weather)\n",
    "print(\"Weather:  \",weather_encoded)"
   ]
  },
  {
   "cell_type": "code",
   "execution_count": 11,
   "id": "6dd93c33",
   "metadata": {},
   "outputs": [
    {
     "name": "stdout",
     "output_type": "stream",
     "text": [
      "Temp:   [1 1 1 2 0 0 0 2 0 2 2 2 1 2]\n",
      "Play:   [0 0 1 1 1 0 1 0 1 1 1 1 1 0]\n"
     ]
    }
   ],
   "source": [
    "temp_encoded=le.fit_transform(temp)\n",
    "label=le.fit_transform(play)\n",
    "print(\"Temp:  \",temp_encoded)\n",
    "print(\"Play:  \",label)"
   ]
  },
  {
   "cell_type": "code",
   "execution_count": 12,
   "id": "3bc3f471",
   "metadata": {},
   "outputs": [
    {
     "name": "stdout",
     "output_type": "stream",
     "text": [
      "[(2, 1), (2, 1), (0, 1), (1, 2), (1, 0), (1, 0), (0, 0), (2, 2), (2, 0), (1, 2), (2, 2), (0, 2), (0, 1), (1, 2)]\n"
     ]
    }
   ],
   "source": [
    "features=list(map(lambda x,y:(x,y),weather_encoded,temp_encoded))\n",
    "print(features)"
   ]
  },
  {
   "cell_type": "markdown",
   "id": "e4a44b42",
   "metadata": {},
   "source": [
    "#### Create a Gaussian Classifier"
   ]
  },
  {
   "cell_type": "code",
   "execution_count": 13,
   "id": "5188cbee",
   "metadata": {},
   "outputs": [],
   "source": [
    "model = GaussianNB() "
   ]
  },
  {
   "cell_type": "markdown",
   "id": "34409fb4",
   "metadata": {},
   "source": [
    "#### Train the model using the training sets"
   ]
  },
  {
   "cell_type": "code",
   "execution_count": 14,
   "id": "3b596ab0",
   "metadata": {},
   "outputs": [
    {
     "data": {
      "text/plain": [
       "GaussianNB()"
      ]
     },
     "execution_count": 14,
     "metadata": {},
     "output_type": "execute_result"
    }
   ],
   "source": [
    "model.fit(features,label)"
   ]
  },
  {
   "cell_type": "markdown",
   "id": "05c082a6",
   "metadata": {},
   "source": [
    "###  Predicted Values: \n",
    "#### 0 - Can't Play Tennis\n",
    "#### 1 - Can Play Tennis"
   ]
  },
  {
   "cell_type": "code",
   "execution_count": 15,
   "id": "8141cdc3",
   "metadata": {},
   "outputs": [
    {
     "name": "stdout",
     "output_type": "stream",
     "text": [
      "Predicted Value:  [0]\n"
     ]
    }
   ],
   "source": [
    "predicted=model.predict([[2,0]])        #[Sunny,Cool]      #  NO\n",
    "print(\"Predicted Value: \",predicted)"
   ]
  },
  {
   "cell_type": "code",
   "execution_count": 17,
   "id": "f23edf22",
   "metadata": {},
   "outputs": [
    {
     "name": "stdout",
     "output_type": "stream",
     "text": [
      "Predicted Value:  [0]\n"
     ]
    }
   ],
   "source": [
    "predicted=model.predict([[2,2]])        #[Sunny,Mild]      #  NO\n",
    "print(\"Predicted Value: \",predicted)"
   ]
  },
  {
   "cell_type": "code",
   "execution_count": 18,
   "id": "8657debd",
   "metadata": {},
   "outputs": [
    {
     "name": "stdout",
     "output_type": "stream",
     "text": [
      "Predicted Value:  [0]\n"
     ]
    }
   ],
   "source": [
    "predicted=model.predict([[2,1]])        #[Sunny,Hot]       #  NO\n",
    "print(\"Predicted Value: \",predicted)\n"
   ]
  },
  {
   "cell_type": "code",
   "execution_count": 20,
   "id": "e284bbd1",
   "metadata": {},
   "outputs": [
    {
     "name": "stdout",
     "output_type": "stream",
     "text": [
      "Predicted Value:  [1]\n"
     ]
    }
   ],
   "source": [
    "predicted=model.predict([[0,2]])       #[Overcast, Mild]\n",
    "print(\"Predicted Value: \",predicted)"
   ]
  },
  {
   "cell_type": "code",
   "execution_count": 21,
   "id": "4f7b7a09",
   "metadata": {},
   "outputs": [
    {
     "name": "stdout",
     "output_type": "stream",
     "text": [
      "Predicted Value:  [1]\n"
     ]
    }
   ],
   "source": [
    "predicted=model.predict([[1,2]])       #[Rainy,Mild]\n",
    "print(\"Predicted Value: \",predicted)"
   ]
  },
  {
   "cell_type": "code",
   "execution_count": null,
   "id": "b609bc1a",
   "metadata": {},
   "outputs": [],
   "source": []
  }
 ],
 "metadata": {
  "kernelspec": {
   "display_name": "Python 3 (ipykernel)",
   "language": "python",
   "name": "python3"
  },
  "language_info": {
   "codemirror_mode": {
    "name": "ipython",
    "version": 3
   },
   "file_extension": ".py",
   "mimetype": "text/x-python",
   "name": "python",
   "nbconvert_exporter": "python",
   "pygments_lexer": "ipython3",
   "version": "3.9.12"
  }
 },
 "nbformat": 4,
 "nbformat_minor": 5
}
